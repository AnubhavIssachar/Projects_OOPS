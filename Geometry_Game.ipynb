{
  "nbformat": 4,
  "nbformat_minor": 0,
  "metadata": {
    "colab": {
      "provenance": []
    },
    "kernelspec": {
      "name": "python3",
      "display_name": "Python 3"
    },
    "language_info": {
      "name": "python"
    }
  },
  "cells": [
    {
      "cell_type": "markdown",
      "source": [
        "**Guessing the point that will lie inside the Rectangle.**"
      ],
      "metadata": {
        "id": "QIkqLHcDqo69"
      }
    },
    {
      "cell_type": "code",
      "execution_count": null,
      "metadata": {
        "colab": {
          "base_uri": "https://localhost:8080/"
        },
        "id": "BYW4RzjRqexn",
        "outputId": "1ff17714-d83a-4b96-85a8-7b9f9fb3bfea"
      },
      "outputs": [
        {
          "output_type": "stream",
          "name": "stdout",
          "text": [
            "Coordinates of rectangle are: (6,7),(20,12)\n",
            "Enter x coordinate of point: 5\n",
            "Enter y coordinate of point: 13\n",
            "Coordinates of point are : (5.0,13.0)\n",
            "Your point was inside Triangle:False\n"
          ]
        }
      ],
      "source": [
        "class Point:\n",
        "    def __init__(self,x,y):\n",
        "        self.x=x\n",
        "        self.y=y\n",
        "\n",
        "    def falls_in_rectangle(self,rectangle):\n",
        "      if rectangle.lower_left.x<self.x<rectangle.upper_right.x and rectangle.lower_left.y<self.y<rectangle.upper_right.y:\n",
        "        return True\n",
        "      else:\n",
        "        return False\n",
        "\n",
        "\n",
        "class Rectangle:\n",
        "    def __init__(self,lower_left,upper_right):\n",
        "        self.lower_left=lower_left\n",
        "        self.upper_right=upper_right\n",
        "\n",
        "\n",
        "#points for rectangle\n",
        "from random import randint\n",
        "point_ll= Point(randint(0,9),randint(0,9))\n",
        "point_ur= Point(randint(10,20),randint(10,20))\n",
        "rectangle=Rectangle(point_ll,point_ur)\n",
        "\n",
        "\n",
        "print(f\"Coordinates of rectangle are: ({rectangle.lower_left.x},{rectangle.lower_left.y}),({rectangle.upper_right.x},{rectangle.upper_right.y})\")\n",
        "#point by user\n",
        "point1=Point(float(input(\"Enter x coordinate of point: \")),float(input(\"Enter y coordinate of point: \")))\n",
        "\n",
        "\n",
        "print(f\"Coordinates of point are : ({point1.x},{point1.y})\")\n",
        "print(f\"Your point was inside Triangle:{point1.falls_in_rectangle(rectangle)}\")"
      ]
    }
  ]
}